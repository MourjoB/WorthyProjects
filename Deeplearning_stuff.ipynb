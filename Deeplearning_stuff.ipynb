{
 "cells": [
  {
   "cell_type": "code",
   "execution_count": 29,
   "id": "f2031505-ad23-4634-a734-42d87f3e9630",
   "metadata": {},
   "outputs": [
    {
     "name": "stdout",
     "output_type": "stream",
     "text": [
      "0.7000000000000001\n"
     ]
    }
   ],
   "source": [
    "#Basic 1on1 neuron\n",
    "#The model\n",
    "weight=0.1\n",
    "def neural_network(input,weight):\n",
    "    prediction= input*weight\n",
    "    return prediction \n",
    "#Making a prediction\n",
    "toes= [2,4,7,11]\n",
    "input=toes[2]\n",
    "pred= neural_network(input,weight)\n",
    "print(pred)"
   ]
  },
  {
   "cell_type": "code",
   "execution_count": 3,
   "id": "3738547d-50d2-4c67-a7cc-22458d81328f",
   "metadata": {},
   "outputs": [
    {
     "name": "stdout",
     "output_type": "stream",
     "text": [
      "21.999999999999996\n"
     ]
    }
   ],
   "source": [
    "#Multiple inputs one ouput\n",
    "#The Model:\n",
    "def w_sum(a,b):\n",
    "    assert(len(a)==len(b))\n",
    "    output=0\n",
    "    for i in range(len(a)):\n",
    "        output+= (a[i]*b[i])\n",
    "    return output\n",
    "weights=[0.1,0.2,0.3]\n",
    "def neural_network(input,weights):\n",
    "    prediction= w_sum(input,weights)\n",
    "    return prediction\n",
    "#prediction side:\n",
    "p1=[8,11,23,33] #parameter 1\n",
    "p2=[2,4,5,8]\n",
    "p3=[45,67,79,91]\n",
    "input=[p1[1],p2[1],p3[1]] #sample number 2\n",
    "pred= neural_network(input,weights)\n",
    "print(pred)"
   ]
  },
  {
   "cell_type": "code",
   "execution_count": 4,
   "id": "8a7e885b-4b19-44e3-8e4d-256d77089811",
   "metadata": {
    "scrolled": true
   },
   "outputs": [
    {
     "name": "stdout",
     "output_type": "stream",
     "text": [
      "21.999999999999996\n"
     ]
    }
   ],
   "source": [
    "#numpy version\n",
    "#The model:\n",
    "import numpy as np\n",
    "weights= np.array([0.1,0.2,0.3])\n",
    "def neural_network(input,weights):\n",
    "    pred= input.dot(weights)\n",
    "    return pred\n",
    "#making the prediction:\n",
    "p1=np.array([8,11,23,33]) #parameter 1\n",
    "p2=np.array([2,4,5,8])\n",
    "p3=np.array([45,67,79,91])\n",
    "input=np.array([p1[1],p2[1],p3[1]]) #sample number 2\n",
    "pred= neural_network(input,weights)\n",
    "print(pred)"
   ]
  },
  {
   "cell_type": "code",
   "execution_count": 1,
   "id": "92da278c-e9ed-447d-b72b-d9a32177c173",
   "metadata": {},
   "outputs": [
    {
     "name": "stdout",
     "output_type": "stream",
     "text": [
      "[4.2, 7.0, 9.799999999999999]\n"
     ]
    }
   ],
   "source": [
    "#single input, multiple output\n",
    "#The model\n",
    "def ele_multi(numbers,weights):\n",
    "    output=[0,0,0]\n",
    "    assert(len(output)==len(weights))\n",
    "    for i in range (len(weights)):\n",
    "        output[i]=numbers*weights[i]\n",
    "    return output\n",
    "weights=[0.3,0.5,0.7]\n",
    "def neural_network(input,weights):\n",
    "    pred= ele_multi(input,weights)\n",
    "    return pred\n",
    "#making the prediction\n",
    "wlrec=[14,12,34,77]\n",
    "input=wlrec[0]\n",
    "pred= neural_network(input,weights)\n",
    "print(pred)"
   ]
  },
  {
   "cell_type": "code",
   "execution_count": 30,
   "id": "e58013be-3578-48cf-be2f-cb4ba3518b0b",
   "metadata": {},
   "outputs": [
    {
     "name": "stdout",
     "output_type": "stream",
     "text": [
      "[0.555, 0.9800000000000001, 0.9650000000000001]\n"
     ]
    }
   ],
   "source": [
    "#multiple input and multiple outputs\n",
    "#The Model\n",
    "           #input1\n",
    "weights=[ [0.1,0.1,-0.3], #output1\n",
    "          [0.1,0.2,0.0],\n",
    "          [0.0,1.3,0.1]]\n",
    "def w_sum(a,b): #a and b are vectors\n",
    "    output=0\n",
    "    assert(len(a)==len(b))\n",
    "    for i in range(len(a)):\n",
    "        output+=a[i]*b[i]\n",
    "    return output\n",
    "def vect_mat_multi(vector,matrix):\n",
    "    assert(len(vector)==len(matrix))\n",
    "    output=[0,0,0]\n",
    "    for i in range (len(vector)):\n",
    "        output[i]=w_sum(vector,matrix[i])\n",
    "    return output\n",
    "def neural_network(inputs,weights):\n",
    "    pred=vect_mat_multi(inputs,weights)\n",
    "    return pred\n",
    "#making predicitions\n",
    "itype1 =  [8.5, 9.5, 9.9, 9.0]\n",
    "itype2 = [0.65,0.8, 0.8, 0.9]\n",
    "itype3 = [1.2, 1.3, 0.5, 1.0]\n",
    "inputs=[itype1[0],itype2[0],itype3[0]]\n",
    "pred=neural_network(inputs,weights)\n",
    "print(pred)"
   ]
  },
  {
   "cell_type": "code",
   "execution_count": 23,
   "id": "24ea4454-c404-4e93-b02d-82d800a3add2",
   "metadata": {},
   "outputs": [
    {
     "name": "stdout",
     "output_type": "stream",
     "text": [
      "[2.905, 0.9800000000000001, 0.9650000000000001]\n"
     ]
    }
   ],
   "source": [
    "#multiple input and outputs with hidden layers\n",
    "#The models\n",
    "weight1 = [ [0.1, 0.2, -0.1], #hid[0]\n",
    "           [-0.1,0.1, 0.9], #hid[1]\n",
    "           [0.1, 0.4, 0.1] ] #hid[2]\n",
    "\n",
    "           #hid[0] hid[1] hid[2]\n",
    "weight2= [ [0.3, 1.1, -0.3], #hurt?\n",
    "           [0.1, 0.2, 0.0], #win?\n",
    "           [0.0, 1.3, 0.1] ] #sad?\n",
    "weights=[weight1,weight2]\n",
    "def neural_networks(inputs,weights):\n",
    "    hidden= vect_mat_multi(input,weights[0])\n",
    "    pred= vect_mat_multi(input,weights[1])\n",
    "    return pred\n",
    "#running the model\n",
    "toes =  [8.5, 9.5, 9.9, 9.0]\n",
    "wlrec = [0.65,0.8, 0.8, 0.9]\n",
    "nfans = [1.2, 1.3, 0.5, 1.0]\n",
    "input=[toes[0],wlrec[0],nfans[0]]\n",
    "pred= neural_networks(input,weights)\n",
    "print(pred)"
   ]
  },
  {
   "cell_type": "code",
   "execution_count": 37,
   "id": "3a31641e-8f34-41e1-b536-f8dcc2728585",
   "metadata": {},
   "outputs": [
    {
     "name": "stdout",
     "output_type": "stream",
     "text": [
      "[2.6149999999999998, 11.040000000000003, -2.4299999999999997]\n"
     ]
    }
   ],
   "source": [
    "#Numpy code\n",
    "#The Model\n",
    "import numpy as np\n",
    "weight1= np.array([ [0.1, 0.2, -0.1], #hid[0]\n",
    "           [-0.1,0.1, 0.9], #hid[1]\n",
    "           [0.1, 0.4, 0.1] ]).T #hid[2]\n",
    "weight2= np.array ([ [0.3, 1.1, -0.3], #hurt?\n",
    "           [0.1, 0.2, 0.0], #win?\n",
    "           [0.0, 1.3, 0.1] ]).T #sad?\n",
    "weights=[weight1,weight2]\n",
    "def neural_network(inputs,weights):\n",
    "    hidden= input.dot(weights[0])\n",
    "    pred= input.dot(weights[1])\n",
    "    return pred\n",
    "#Running the model\n",
    "toes =  np.array([8.5, 9.5, 9.9, 9.0])\n",
    "wlrec = np.array([0.65,0.8, 0.8, 0.9])\n",
    "nfans = np.array([1.2, 1.3, 0.5, 1.0])\n",
    "input=np.array([toes[0],wlrec[0],nfans[0]])\n",
    "pred= neural_networks(input,weights)\n",
    "print(pred)\n",
    "    "
   ]
  },
  {
   "cell_type": "code",
   "execution_count": 31,
   "id": "f948cfc5-8b2d-412c-960a-120a5b9faf6a",
   "metadata": {},
   "outputs": [
    {
     "name": "stdout",
     "output_type": "stream",
     "text": [
      "[0.2135 0.145  0.5065]\n"
     ]
    }
   ],
   "source": [
    "import numpy as np\n",
    "\n",
    "#toes %win #fans\n",
    "ih_wgt = np.array([ \n",
    "            [0.1, 0.2, -0.1], #hid[0]\n",
    "            [-0.1,0.1, 0.9], #hid[1]\n",
    "            [0.1, 0.4, 0.1]]).T #hid[2]\n",
    "\n",
    "\n",
    "# hid[0] hid[1] hid[2]\n",
    "hp_wgt = np.array([  \n",
    "            [0.3, 1.1, -0.3], #hurt?\n",
    "            [0.1, 0.2, 0.0], #win?\n",
    "            [0.0, 1.3, 0.1] ]).T #sad?\n",
    "\n",
    "weights = [ih_wgt, hp_wgt]\n",
    "\n",
    "def neural_network(input, weights):\n",
    "\n",
    "    hid = input.dot(weights[0])\n",
    "    pred = hid.dot(weights[1])\n",
    "    return pred\n",
    "\n",
    "\n",
    "toes =  np.array([8.5, 9.5, 9.9, 9.0])\n",
    "wlrec = np.array([0.65,0.8, 0.8, 0.9])\n",
    "nfans = np.array([1.2, 1.3, 0.5, 1.0])\n",
    "\n",
    "input = np.array([toes[0],wlrec[0],nfans[0]])\n",
    "\n",
    "pred = neural_network(input,weights)\n",
    "print(pred)"
   ]
  },
  {
   "cell_type": "code",
   "execution_count": null,
   "id": "648cfa5e-bd72-498c-a825-8595b94a5376",
   "metadata": {},
   "outputs": [],
   "source": []
  },
  {
   "cell_type": "code",
   "execution_count": null,
   "id": "0fc82756-b9ab-440d-9427-a57f0b86d18e",
   "metadata": {},
   "outputs": [],
   "source": []
  },
  {
   "cell_type": "code",
   "execution_count": null,
   "id": "bc1fd06c-cdfb-42b2-a71e-d01f6a8ba06a",
   "metadata": {},
   "outputs": [],
   "source": []
  }
 ],
 "metadata": {
  "kernelspec": {
   "display_name": "Python 3 (ipykernel)",
   "language": "python",
   "name": "python3"
  },
  "language_info": {
   "codemirror_mode": {
    "name": "ipython",
    "version": 3
   },
   "file_extension": ".py",
   "mimetype": "text/x-python",
   "name": "python",
   "nbconvert_exporter": "python",
   "pygments_lexer": "ipython3",
   "version": "3.11.5"
  }
 },
 "nbformat": 4,
 "nbformat_minor": 5
}
